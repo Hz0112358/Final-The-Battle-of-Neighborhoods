{
    "cells": [
        {
            "cell_type": "markdown",
            "metadata": {
                "collapsed": true
            },
            "source": "# The Battle of Neighborhoods in Chicago\n## Introduction \n\nThe purpose of this notebook is to aid an individual or stakeholder in opening a new coffee shop in Chicago, Illinois. We can provide an optimal location for the new coffee shop; by compiling data on income, population, and competitors in each neighborhood.\n\n## Data Sets and APIs\n\n### Data\nI will use census data I found on the Chicago Data Portal called Selected Socioeconomic Indicators in Chicago, 2008\u20132012, that will tell me about income in each neighborhood. For the population of each neighborhood, I will scrape data this found on Wikipedia (https://en.wikipedia.org/wiki/Community_areas_in_Chicago).\n\n### APIs and Libaries \n\u2022 **Foursquare API:** This notebook will use Four-square API as its main source of gathering data. This API provides the ability to perform location searches, sharing, and details about a business. \n\n\u2022 **Work Flow:** http requests will be made to this Foursquare API server using Chicago neighborhoods to pull the location information like Latitude and Longitude. Foursquare API search feature will be enabled to collect places around the neighborhoods. \n\n\u2022 **Folium:** Python visualization library would be used to visualize the neighborhood cluster distribution over the Chicago neighborhoods. \n\u2022 **K-means clustering:** An unsupervised machine learning algorithm will be applied to form the clusters of different categories of places residing in and around the neighborhoods.\n\n\u2022 **Additional Package:**\n\n+ Folium \u2013 Map rendering Library\n+ Geopy \u2013 To retrieve Location Data\n+ JSON \u2013 Library to handle JSON files\n+ Matplotlib \u2013 Python Plotting Module\n+ NumPy \u2013 Library to handle data in a vectorized manner\n+ Pandas - Library for Data Analysis\n+ Requests \u2013 Library to handle http requests\n+ Sklearn \u2013 Python machine learning Library"
        },
        {
            "cell_type": "code",
            "execution_count": null,
            "metadata": {},
            "outputs": [],
            "source": ""
        }
    ],
    "metadata": {
        "kernelspec": {
            "display_name": "Python 3.6",
            "language": "python",
            "name": "python3"
        },
        "language_info": {
            "codemirror_mode": {
                "name": "ipython",
                "version": 3
            },
            "file_extension": ".py",
            "mimetype": "text/x-python",
            "name": "python",
            "nbconvert_exporter": "python",
            "pygments_lexer": "ipython3",
            "version": "3.6.9"
        }
    },
    "nbformat": 4,
    "nbformat_minor": 1
}